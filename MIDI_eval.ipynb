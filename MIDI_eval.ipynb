{
 "cells": [
  {
   "cell_type": "code",
   "execution_count": 76,
   "metadata": {},
   "outputs": [],
   "source": [
    "import numpy as np\n",
    "import scipy as sp\n",
    "import matplotlib.pyplot as plt\n",
    "import pandas as pd\n",
    "from sklearn.neural_network import MLPClassifier\n",
    "from sklearn.svm import SVC\n",
    "import pretty_midi\n",
    "import warnings\n",
    "import os"
   ]
  },
  {
   "cell_type": "code",
   "execution_count": 116,
   "metadata": {},
   "outputs": [
    {
     "name": "stdout",
     "output_type": "stream",
     "text": [
      "86\n"
     ]
    }
   ],
   "source": [
    "import glob\n",
    "a = glob.glob(\"./dataset/*/*/*.mid\")\n",
    "genres = {0: 'pop', 1: 'jazz', 2: 'rock', 3: 'classical'}\n",
    "print(len(a))\n",
    "t = 'train'\n",
    "te = 'test'\n",
    "labels_train = []\n",
    "songs_train = []\n",
    "labels_test = []\n",
    "songs_test = []\n",
    "for i in range(len(a)):\n",
    "    if genres[0] in str(a[i]) and t in str(a[i]):\n",
    "        labels_train.append(0)\n",
    "        songs_train.append(a[i])\n",
    "    if genres[0] in str(a[i]) and te in str(a[i]):\n",
    "        labels_test.append(0)\n",
    "        songs_test.append(a[i])\n",
    "    if genres[1] in str(a[i]) and t in str(a[i]):\n",
    "        labels_train.append(1)\n",
    "        songs_train.append(a[i])\n",
    "    if genres[1] in str(a[i]) and te in str(a[i]):\n",
    "        labels_test.append(1)\n",
    "        songs_test.append(a[i])\n",
    "    if genres[2] in str(a[i]) and t in str(a[i]):\n",
    "        labels_train.append(2)\n",
    "        songs_train.append(a[i])\n",
    "    if genres[2] in str(a[i]) and te in str(a[i]):\n",
    "        labels_test.append(2)\n",
    "        songs_test.append(a[i])\n",
    "    if genres[3] in str(a[i]) and t in str(a[i]):\n",
    "        labels_train.append(3)\n",
    "        songs_train.append(a[i])\n",
    "    if genres[3] in str(a[i]) and te in str(a[i]):\n",
    "        labels_test.append(3)\n",
    "        songs_test.append(a[i])"
   ]
  },
  {
   "cell_type": "code",
   "execution_count": 121,
   "metadata": {},
   "outputs": [],
   "source": [
    "train = []\n",
    "for i in range(len(labels_train)):\n",
    "    train.append((songs_train[i], labels_train[i]))"
   ]
  },
  {
   "cell_type": "code",
   "execution_count": 79,
   "metadata": {},
   "outputs": [],
   "source": [
    "test = []\n",
    "for i in range(len(labels_test)):\n",
    "    test.append((songs_test[i], labels_test[i]))"
   ]
  },
  {
   "cell_type": "code",
   "execution_count": 122,
   "metadata": {},
   "outputs": [
    {
     "name": "stdout",
     "output_type": "stream",
     "text": [
      "[[ 2.31476908e-01  5.50000000e-01  1.25000000e-01  1.25000000e-01\n",
      "   0.00000000e+00]\n",
      " [-3.07689649e-02  5.50000000e-01  1.25000000e-01  1.25000000e-01\n",
      "   0.00000000e+00]\n",
      " [-1.66086957e-01  5.50000000e-01  1.25000000e-01  1.25000000e-01\n",
      "   0.00000000e+00]\n",
      " [ 2.23482599e-01  5.50000000e-01  1.25000000e-01  1.25000000e-01\n",
      "   0.00000000e+00]\n",
      " [ 4.30303030e-02  5.50000000e-01  1.25000000e-01  1.25000000e-01\n",
      "   0.00000000e+00]\n",
      " [-8.15384894e-02  5.50000000e-01  1.25000000e-01  1.25000000e-01\n",
      "   0.00000000e+00]\n",
      " [-2.31666805e-01  5.50000000e-01  1.25000000e-01  1.25000000e-01\n",
      "   0.00000000e+00]\n",
      " [ 2.35555119e-02  5.50000000e-01  1.25000000e-01  1.25000000e-01\n",
      "   0.00000000e+00]\n",
      " [ 9.70682943e-04  5.50000000e-01  1.25000000e-01  1.25000000e-01\n",
      "   0.00000000e+00]\n",
      " [ 9.90479118e-02  5.50000000e-01  3.75000000e-01  6.25000000e-01\n",
      "   3.00000000e+00]\n",
      " [ 7.57516438e-02  5.50000000e-01  0.00000000e+00  1.25000000e-01\n",
      "   3.00000000e+00]\n",
      " [ 4.78317399e-02  5.50000000e-01  3.75000000e-01  6.25000000e-01\n",
      "   3.00000000e+00]\n",
      " [ 9.91976474e-02  5.50000000e-01 -1.25000000e-01  1.25000000e-01\n",
      "   3.00000000e+00]\n",
      " [ 2.98166199e-01  5.50000000e-01  1.25000000e-01  1.25000000e-01\n",
      "   3.00000000e+00]\n",
      " [ 1.02651440e-01  5.50000000e-01  6.25000000e-01  1.25000000e-01\n",
      "   3.00000000e+00]\n",
      " [-7.10343135e-02  5.50000000e-01  0.00000000e+00  1.25000000e-01\n",
      "   3.00000000e+00]\n",
      " [ 3.09215935e-01  5.50000000e-01  6.25000000e-01  1.25000000e-01\n",
      "   3.00000000e+00]\n",
      " [ 2.53538639e-01  5.50000000e-01 -1.25000000e-01  1.25000000e-01\n",
      "   3.00000000e+00]\n",
      " [ 5.63916261e-02  5.50000000e-01  0.00000000e+00  1.25000000e-01\n",
      "   3.00000000e+00]\n",
      " [ 2.39126150e-01  5.50000000e-01  1.25000000e-01  1.25000000e-01\n",
      "   2.00000000e+00]\n",
      " [-2.19336372e-01  5.50000000e-01  1.25000000e-01  1.25000000e-01\n",
      "   2.00000000e+00]\n",
      " [ 9.19105557e-02  5.50000000e-01  1.25000000e-01  1.25000000e-01\n",
      "   2.00000000e+00]\n",
      " [ 2.90751445e-01  5.50000000e-01  1.25000000e-01  1.25000000e-01\n",
      "   2.00000000e+00]\n",
      " [ 8.61991430e-02  5.50000000e-01  1.25000000e-01  1.25000000e-01\n",
      "   2.00000000e+00]\n",
      " [ 2.83018868e-02  5.50000000e-01  1.25000000e-01  1.25000000e-01\n",
      "   2.00000000e+00]\n",
      " [ 1.25000000e-01  5.50000000e-01  1.25000000e-01  1.25000000e-01\n",
      "   2.00000000e+00]\n",
      " [-9.08815431e-02  5.50000000e-01  1.25000000e-01  1.25000000e-01\n",
      "   2.00000000e+00]\n",
      " [ 6.38893024e-02  5.50000000e-01  1.25000000e-01  1.25000000e-01\n",
      "   2.00000000e+00]\n",
      " [ 2.83018868e-02  5.50000000e-01  1.25000000e-01  1.25000000e-01\n",
      "   2.00000000e+00]\n",
      " [-3.26666644e-01  5.50000000e-01  1.25000000e-01  1.25000000e-01\n",
      "   1.00000000e+00]\n",
      " [-2.32522796e-01  5.50000000e-01  1.25000000e-01  1.25000000e-01\n",
      "   1.00000000e+00]\n",
      " [-3.20895522e-01  5.50000000e-01  1.25000000e-01  1.25000000e-01\n",
      "   1.00000000e+00]\n",
      " [-1.39092568e-01  5.50000000e-01  1.25000000e-01  1.25000000e-01\n",
      "   1.00000000e+00]\n",
      " [-3.41851426e-01  5.50000000e-01  1.25000000e-01  1.25000000e-01\n",
      "   1.00000000e+00]\n",
      " [ 2.16124910e-01  5.50000000e-01  1.25000000e-01  1.25000000e-01\n",
      "   1.00000000e+00]\n",
      " [-3.50909026e-01  5.50000000e-01  1.25000000e-01  1.25000000e-01\n",
      "   1.00000000e+00]\n",
      " [-2.27981110e-01  5.50000000e-01  1.25000000e-01  1.25000000e-01\n",
      "   1.00000000e+00]\n",
      " [-2.48451644e-01  5.50000000e-01  1.25000000e-01  1.25000000e-01\n",
      "   1.00000000e+00]\n",
      " [-4.56788988e-02  5.50000000e-01  1.25000000e-01  1.25000000e-01\n",
      "   1.00000000e+00]]\n",
      "CPU times: user 3.19 s, sys: 120 ms, total: 3.31 s\n",
      "Wall time: 3.61 s\n"
     ]
    }
   ],
   "source": [
    "%%time\n",
    "def normalize_features(features):\n",
    "    \"\"\"\n",
    "    This function normalizes the features to the range [-1, 1]\n",
    "    \n",
    "    @input features: The array of features.\n",
    "    @type features: List of float\n",
    "    \n",
    "    @return: Normalized features.\n",
    "    @rtype: List of float\n",
    "    \"\"\"\n",
    "    tempo = (features[0] - 150) / 300\n",
    "    num_sig_changes = (features[1] - 2) / 10\n",
    "    resolution = (features[2] - 260) / 400\n",
    "    time_sig_1 = (features[3] - 3) / 8\n",
    "    time_sig_2 = (features[4] - 3) / 8\n",
    "    return [tempo, resolution, time_sig_1, time_sig_2]\n",
    "\n",
    "\n",
    "def get_features(path):\n",
    "    \"\"\"\n",
    "    This function extracts the features from a midi file when given its path.\n",
    "    \n",
    "    @input path: The path to the midi file.\n",
    "    @type path: String\n",
    "    \n",
    "    @return: The extracted features.\n",
    "    @rtype: List of float\n",
    "    \"\"\"\n",
    "    try:\n",
    "        # Test for Corrupted Midi Files\n",
    "        with warnings.catch_warnings():\n",
    "            warnings.simplefilter(\"error\")\n",
    "            file = pretty_midi.PrettyMIDI(path)\n",
    "            \n",
    "            tempo = file.estimate_tempo()\n",
    "            num_sig_changes = len(file.time_signature_changes)\n",
    "            resolution = file.resolution\n",
    "            ts_changes = file.time_signature_changes\n",
    "            ts_1 = 4\n",
    "            ts_2 = 4\n",
    "            if len(ts_changes) > 0:\n",
    "                ts_1 = ts_changes[0].numerator\n",
    "                ts_2 = ts_changes[0].denominator\n",
    "            return normalize_features([tempo, num_sig_changes, resolution, ts_1, ts_2])\n",
    "    except:\n",
    "        return None\n",
    "\n",
    "\n",
    "def extract_midi_features(path_df):\n",
    "    \"\"\"\n",
    "    This function takes in the path DataFrame, then for each midi file, it extracts certain\n",
    "    features, maps the genre to a number and concatenates these to a large design matrix to return.\n",
    "    \n",
    "    @input path_df: A dataframe with paths to midi files, as well as their corresponding matched genre.\n",
    "    @type path_df: pandas.DataFrame\n",
    "    \n",
    "    @return: A matrix of features along with label.\n",
    "    @rtype: numpy.ndarray of float\n",
    "    \"\"\"\n",
    "    all_features = []\n",
    "    for song, label in train:\n",
    "        features = get_features(song)\n",
    "        genre = label\n",
    "        if features is not None:\n",
    "            features.append(genre)\n",
    "            all_features.append(features)\n",
    "    return np.array(all_features)\n",
    "\n",
    "labeled_features = extract_midi_features(train)\n",
    "print(labeled_features)"
   ]
  },
  {
   "cell_type": "code",
   "execution_count": 123,
   "metadata": {},
   "outputs": [
    {
     "name": "stdout",
     "output_type": "stream",
     "text": [
      "[[ 0.25353864  0.55       -0.125       0.125     ]\n",
      " [-0.24845164  0.55        0.125       0.125     ]\n",
      " [ 0.30921594  0.55        0.625       0.125     ]\n",
      " [ 0.2981662   0.55        0.125       0.125     ]\n",
      " [-0.22798111  0.55        0.125       0.125     ]\n",
      " [ 0.04783174  0.55        0.375       0.625     ]\n",
      " [ 0.0430303   0.55        0.125       0.125     ]\n",
      " [ 0.09904791  0.55        0.375       0.625     ]\n",
      " [ 0.23912615  0.55        0.125       0.125     ]\n",
      " [-0.08153849  0.55        0.125       0.125     ]]\n",
      "[3 1 3 3 1 3 0 3 2 0]\n",
      "[[0 0 0 1]\n",
      " [0 1 0 0]\n",
      " [0 0 0 1]\n",
      " [0 0 0 1]\n",
      " [0 1 0 0]\n",
      " [0 0 0 1]\n",
      " [1 0 0 0]\n",
      " [0 0 0 1]\n",
      " [0 0 1 0]\n",
      " [1 0 0 0]]\n"
     ]
    }
   ],
   "source": [
    "# Shuffle Entire Dataset to Make Random\n",
    "labeled_features = np.random.permutation(labeled_features)\n",
    "\n",
    "# Partition into 3 Sets\n",
    "num = len(labeled_features)\n",
    "num_training = int(num * 0.8)\n",
    "num_validation = int(num)\n",
    "training_data = labeled_features[:num_training]\n",
    "validation_data = labeled_features[num_training:num_validation]\n",
    "#test_data = labeled_features[num_validation:]\n",
    "\n",
    "# Separate Features from Labels\n",
    "num_cols = training_data.shape[1] - 1\n",
    "training_features = training_data[:, :num_cols]\n",
    "validation_features = validation_data[:, :num_cols]\n",
    "test_features = test_data[:, :num_cols]\n",
    "\n",
    "# Format Features for Multi-class Classification\n",
    "num_classes = len(genres)\n",
    "training_labels = training_data[:, num_cols].astype(int)\n",
    "validation_labels = validation_data[:, num_cols].astype(int)\n",
    "test_labels = test_data[:, num_cols].astype(int)\n",
    "\n",
    "# Function for One-Hot Encoding\n",
    "def one_hot(labels):\n",
    "    \"\"\"\n",
    "    This function encodes the labels using one-hot encoding.\n",
    "    \n",
    "    @input num_classes: The number of genres/classes.\n",
    "    @type num_classes: int\n",
    "    @input labels: The genre labels to encode.\n",
    "    @type labels: numpy.ndarray of int\n",
    "    \n",
    "    @return: The one-hot encoding of the labels.\n",
    "    @rtype: numpy.ndarray of int\n",
    "    \"\"\"\n",
    "    return np.eye(num_classes)[labels].astype(int)\n",
    "\n",
    "# Print to Check Dimentions and to Visualize\n",
    "print(training_features[:10])\n",
    "print(training_labels[:10])\n",
    "print(one_hot(training_labels)[:10])"
   ]
  },
  {
   "cell_type": "code",
   "execution_count": 124,
   "metadata": {},
   "outputs": [
    {
     "name": "stderr",
     "output_type": "stream",
     "text": [
      "/anaconda3/lib/python3.7/site-packages/sklearn/neural_network/_multilayer_perceptron.py:571: ConvergenceWarning: Stochastic Optimizer: Maximum iterations (200) reached and the optimization hasn't converged yet.\n",
      "  % self.max_iter, ConvergenceWarning)\n",
      "/anaconda3/lib/python3.7/site-packages/sklearn/neural_network/_multilayer_perceptron.py:571: ConvergenceWarning: Stochastic Optimizer: Maximum iterations (200) reached and the optimization hasn't converged yet.\n",
      "  % self.max_iter, ConvergenceWarning)\n",
      "/anaconda3/lib/python3.7/site-packages/sklearn/neural_network/_multilayer_perceptron.py:571: ConvergenceWarning: Stochastic Optimizer: Maximum iterations (200) reached and the optimization hasn't converged yet.\n",
      "  % self.max_iter, ConvergenceWarning)\n"
     ]
    },
    {
     "name": "stdout",
     "output_type": "stream",
     "text": [
      "Best Accuracy: 0.625\n"
     ]
    },
    {
     "name": "stderr",
     "output_type": "stream",
     "text": [
      "/anaconda3/lib/python3.7/site-packages/sklearn/neural_network/_multilayer_perceptron.py:571: ConvergenceWarning: Stochastic Optimizer: Maximum iterations (200) reached and the optimization hasn't converged yet.\n",
      "  % self.max_iter, ConvergenceWarning)\n"
     ]
    }
   ],
   "source": [
    "def train_model(t_features, t_labels, v_features, v_labels):\n",
    "    \"\"\"\n",
    "    This function trains a neural network using a couple different configurations.\n",
    "    \n",
    "    @input t_features: The training features.\n",
    "    @type t_features: numpy.ndarray of float\n",
    "    @input t_labels: The training labels.\n",
    "    @type t_labels: numpy.ndarray of int\n",
    "    @input v_features: The validation features.\n",
    "    @type v_features: numpy.ndarray of float\n",
    "    @input v_labels: The validation labels.\n",
    "    @type v_labels: numpy.ndarray of int\n",
    "    \n",
    "    @return: The classifier that achieved the best validation accuracy.\n",
    "    @rtype: sklearn.neural_network.multilayer_perceptron.MLPClassifier\n",
    "    \"\"\"\n",
    "    # Neural Network and SVM Configurations\n",
    "    clf_1 = MLPClassifier(solver='adam', alpha=1e-4, hidden_layer_sizes=(5,), random_state=1)\n",
    "    clf_2 = MLPClassifier(solver='adam', alpha=1e-4, hidden_layer_sizes=(5, 5), random_state=1)\n",
    "    clf_3 = MLPClassifier(solver='adam', alpha=1e-5, hidden_layer_sizes=(10, 10), random_state=1)\n",
    "    clf_4 = MLPClassifier(solver='adam', alpha=1e-5, hidden_layer_sizes=(100, 100), random_state=1)\n",
    "    clf_svm = SVC()\n",
    "    \n",
    "    # Keep Track of the Best Model\n",
    "    best_clf = None\n",
    "    best_accuracy = 0\n",
    "    \n",
    "    # Test the Accuracies of the Models and Get Best\n",
    "    for clf in [clf_1, clf_2, clf_3, clf_4, clf_svm]:\n",
    "        t_labels_hot = one_hot(t_labels)\n",
    "        v_labels_hot = one_hot(v_labels)\n",
    "        if (type(clf) == SVC):\n",
    "            clf = clf.fit(t_features, t_labels)\n",
    "        else:\n",
    "            clf = clf.fit(t_features, t_labels_hot)\n",
    "        predictions = clf.predict(v_features)\n",
    "        count = 0\n",
    "        for i in range(len(v_labels)):\n",
    "            if (type(clf) != SVC):\n",
    "                if np.array_equal(v_labels_hot[i], predictions[i]):\n",
    "                    count += 1\n",
    "            else:\n",
    "                if v_labels[i] == predictions[i]:\n",
    "                    count += 1\n",
    "        accuracy = count / len(v_labels_hot)\n",
    "        if accuracy > best_accuracy:\n",
    "            best_accuracy = accuracy\n",
    "            best_clf = clf\n",
    "\n",
    "    print(\"Best Accuracy:\", best_accuracy)\n",
    "    return best_clf\n",
    "\n",
    "classifier = train_model(training_features, training_labels, validation_features, validation_labels)"
   ]
  },
  {
   "cell_type": "code",
   "execution_count": 125,
   "metadata": {},
   "outputs": [],
   "source": [
    "labeled_features_test = extract_midi_features(test)\n",
    "labeled_features_test = np.random.permutation(labeled_features_test)\n",
    "test_features = labeled_features_test[:, :num_cols]\n",
    "test_labels = labeled_features_test[:, num_cols].astype(int)"
   ]
  },
  {
   "cell_type": "code",
   "execution_count": 126,
   "metadata": {},
   "outputs": [
    {
     "name": "stdout",
     "output_type": "stream",
     "text": [
      "[0 3 3 1 0 2 2 0 1 3 1 2 0 0 3 0 2 2 0 2 3 3 1 0 3 1 0 1 1 3 1 3 3 2 2 1 1\n",
      " 2 2]\n"
     ]
    }
   ],
   "source": [
    "print(test_labels)"
   ]
  },
  {
   "cell_type": "code",
   "execution_count": 127,
   "metadata": {},
   "outputs": [
    {
     "name": "stdout",
     "output_type": "stream",
     "text": [
      "0.5897435897435898\n"
     ]
    }
   ],
   "source": [
    "def calculate_accuracy(clf, t_features, t_labels):\n",
    "    \"\"\"\n",
    "    This function takes a trained model as well as the test features and its\n",
    "    corresponding labels, and reports the accuracy of the model.\n",
    "    \n",
    "    @input clf: The trained classifier.\n",
    "    @type model: sklearn.neural_network.multilayer_perceptron.MLPClassifier\n",
    "    @input t_features: The features from the test set.\n",
    "    @type f_features: numpy.ndarray of float\n",
    "    @input t_labels: The labels of the test set features.\n",
    "    @type t_labels: numpy.ndarray of int\n",
    "    \n",
    "    @return: The accuracy.\n",
    "    @rtype: float\n",
    "    \"\"\"\n",
    "    count = 0\n",
    "    predictions = clf.predict(t_features)\n",
    "    t_labels_hot = one_hot(t_labels)\n",
    "    for i in range(len(t_features)):\n",
    "        if (type(clf) == SVC):\n",
    "            if t_labels[i] == predictions[i]:\n",
    "                count += 1\n",
    "        else:\n",
    "            if np.array_equal(t_labels_hot[i], predictions[i]):\n",
    "                count += 1\n",
    "    return count / len(t_features)\n",
    "\n",
    "# Print the Test Accuracy\n",
    "print(calculate_accuracy(classifier, test_features, test_labels))"
   ]
  },
  {
   "cell_type": "code",
   "execution_count": 128,
   "metadata": {},
   "outputs": [],
   "source": [
    "def make_prediction(clf, midi_path):\n",
    "    \"\"\"\n",
    "    This function uses the classifier to predict the genre of a midi file.\n",
    "    \n",
    "    @input clf: The trained classifier.\n",
    "    @type clf: sklearn.neural_network.multilayer_perceptron.MLPClassifier\n",
    "    @input midi_path: The path to the midi file that we are trying to classify.\n",
    "    @type midi_path: String\n",
    "    \n",
    "    @return: The predicted genre of the midi file.\n",
    "    @rtype: String\n",
    "    \"\"\"\n",
    "    features = get_features(midi_path)\n",
    "    #print(clf.predict([features])[0])\n",
    "    prediction_ind = clf.predict([features])[0]#list(clf.predict([features])[0]).index(1)\n",
    "    prediction = genres[prediction_ind]\n",
    "    return prediction"
   ]
  },
  {
   "cell_type": "code",
   "execution_count": 129,
   "metadata": {},
   "outputs": [
    {
     "name": "stdout",
     "output_type": "stream",
     "text": [
      "rock\n"
     ]
    }
   ],
   "source": [
    "path = './output/rockfrom_scratch/1.midi'\n",
    "print(make_prediction(classifier, path))"
   ]
  },
  {
   "cell_type": "code",
   "execution_count": 130,
   "metadata": {},
   "outputs": [
    {
     "name": "stdout",
     "output_type": "stream",
     "text": [
      "0.9\n"
     ]
    }
   ],
   "source": [
    "#ROCK ACCURACY\n",
    "path = glob.glob('./output/rockfrom_scratch/*.midi')\n",
    "rock =  []\n",
    "for i in range(len(path)):\n",
    "    if make_prediction(classifier, path[i]) == 'rock':\n",
    "        rock.append(1)\n",
    "    else:\n",
    "        rock.append(0)\n",
    "print(np.mean(rock))"
   ]
  },
  {
   "cell_type": "code",
   "execution_count": 131,
   "metadata": {},
   "outputs": [
    {
     "name": "stdout",
     "output_type": "stream",
     "text": [
      "0.9\n"
     ]
    }
   ],
   "source": [
    "#JAZZ ACCURACY\n",
    "path = glob.glob('./output/jazz10from_scratch/*.midi')\n",
    "jazz =  []\n",
    "for i in range(len(path)):\n",
    "    if make_prediction(classifier, path[i]) == 'jazz':\n",
    "        jazz.append(1)\n",
    "    else:\n",
    "        jazz.append(0)\n",
   ],
   "source": [
    "#CLASSICAL ACCURACY\n",
    "path = glob.glob('./output/classical_10_epochs/*/*.midi')\n",
    "classical =  []\n",
    "for i in range(len(path)):\n",
    "    print(make_prediction(classifier, path[i]))\n",
    "    if make_prediction(classifier, path[i]) == 'classical':\n",
    "        classical.append(1)\n",
    "    else:\n",
    "        classical.append(0)\n",
   ],
   "source": [
    "#CLASSICAL ACCURACY\n",
    "path = glob.glob('./output/pop10from_scratch/*.midi')\n",
    "pop =  []\n",
    "for i in range(len(path)):\n",
    "    print(make_prediction(classifier, path[i]))\n",
    "    if make_prediction(classifier, path[i]) == 'pop':\n",
    "        pop.append(1)\n",
    "    else:\n",
    "        pop.append(0)\n",
    "print(np.mean(pop))"
   ]
  },
  {
   "cell_type": "code",
   "execution_count": null,
   "metadata": {},
   "outputs": [],
   "source": []
  }
 ],
 "metadata": {
  "kernelspec": {
   "display_name": "Python 3",
   "language": "python",
   "name": "python3"
  },
  "language_info": {
   "codemirror_mode": {
    "name": "ipython",
    "version": 3
   },
   "file_extension": ".py",
   "mimetype": "text/x-python",
   "name": "python",
   "nbconvert_exporter": "python",
   "pygments_lexer": "ipython3",
   "version": "3.7.7"
  }
 },
 "nbformat": 4,
 "nbformat_minor": 4
}
